{
 "cells": [
  {
   "cell_type": "code",
   "execution_count": null,
   "id": "061eb39a-5a53-4e1a-b9d8-1c04750baae3",
   "metadata": {
    "jupyter": {
     "source_hidden": true
    }
   },
   "outputs": [],
   "source": [
    "import pandas as pd"
   ]
  },
  {
   "cell_type": "markdown",
   "id": "15448c0f-7f53-420e-9e52-d818e820b15a",
   "metadata": {},
   "source": [
    "### Time as a continous variable\n",
    "The datetime64[ns] type represents dates and times down to the nanosecond. It is a NumPy data type that is based on the datetime module of Python. Because the datetime64 object is limited to 64-bit precision,  if you want a time resolution of one nanosecond, you only have enough information to encode a range of 2^64 nanosecond.r just under 600 years So tThe datetime64[ns] data type can represent dates and times ranging from 1678 AD to 2262 AD with a resolution of nanoseconds. Pandas uses ns i.e. datetime64[ns] as a default, but allows used to choose other code with datetime64.  \n",
    "<img title=\"a title\" alt=\"datetime[64 codes. see http://docs.scipy.org/doc/numpy/reference/arrays.datetime.html\" src=\"datetime64Codes.png\"> "
   ]
  },
  {
   "cell_type": "code",
   "execution_count": null,
   "id": "3609b446-6679-43b5-b6a3-f97df88bb0b7",
   "metadata": {
    "jupyter": {
     "source_hidden": true
    }
   },
   "outputs": [],
   "source": [
    "df = pd.DataFrame({\n",
    "    \"date\": [\"Jan-23\", \"Mar-23\", \"Apr-23\", \"May-23\"],\n",
    "    \"value\": [10, 30, 20, 50]\n",
    "})\n",
    "print(df.info())"
   ]
  },
  {
   "cell_type": "code",
   "execution_count": null,
   "id": "a22bd6e2-d8cd-4c11-82b8-ae066d714002",
   "metadata": {
    "jupyter": {
     "source_hidden": true
    }
   },
   "outputs": [],
   "source": [
    "df[\"date\"]=pd.to_datetime(df[\"date\"],format=\"%b-%y\")\n",
    "print(df.info())"
   ]
  },
  {
   "cell_type": "markdown",
   "id": "fb06a8a2-d6cc-48a5-9fc6-2ab5fcebc016",
   "metadata": {},
   "source": [
    "For date format code see https://docs.python.org/3/library/datetime.html#strftime-and-strptime-behavior"
   ]
  },
  {
   "cell_type": "code",
   "execution_count": null,
   "id": "1e687512-1ec0-435f-9b0a-174c2a38d4c8",
   "metadata": {
    "jupyter": {
     "source_hidden": true
    }
   },
   "outputs": [],
   "source": [
    "df[\"month\"]=df[\"date\"].dt.month_name()\n",
    "df[\"year\"]=df[\"date\"].dt.year\n",
    "df[\"day\"]=df[\"date\"].dt.day_name()\n",
    "df[\"dat\"]=df[\"date\"].dt.date\n",
    "df[\"localDate\"]=df[\"date\"].dt.strftime('%d/%m/%Y')\n",
    "df"
   ]
  },
  {
   "cell_type": "code",
   "execution_count": null,
   "id": "aa5f417f-20e0-4b60-baec-35669431d1af",
   "metadata": {
    "jupyter": {
     "source_hidden": true
    }
   },
   "outputs": [],
   "source": [
    "df.set_index(\"date\")"
   ]
  },
  {
   "cell_type": "markdown",
   "id": "562d33f0-c627-45a3-847a-b08a38712a7f",
   "metadata": {},
   "source": [
    "### Pandas Transpose of the Data Frame: \n",
    "Rows become columns and column become rows."
   ]
  },
  {
   "cell_type": "code",
   "execution_count": null,
   "id": "322e4766-d43b-4a37-9949-493a1a2fe79d",
   "metadata": {
    "jupyter": {
     "source_hidden": true
    }
   },
   "outputs": [],
   "source": [
    "df.set_index(\"date\").T"
   ]
  },
  {
   "cell_type": "markdown",
   "id": "8224cea3-bbae-4503-8af9-63213ce9fee2",
   "metadata": {},
   "source": [
    "### Yfinance for stock market data"
   ]
  },
  {
   "cell_type": "code",
   "execution_count": null,
   "id": "a4c7f337-a3f8-4e4f-bffd-df95320ce862",
   "metadata": {
    "jupyter": {
     "source_hidden": true
    }
   },
   "outputs": [],
   "source": [
    "\n",
    "#!pip install yfinance\n",
    "import yfinance as yfin\n",
    "start='2019-09-10'\n",
    "end='2023-09-05'\n",
    "yfin.Ticker(\"GE\").history(start=start,end=end)"
   ]
  },
  {
   "cell_type": "markdown",
   "id": "7d4af794-4ac4-4c1c-872d-d7562f7eb0ac",
   "metadata": {},
   "source": [
    "**Adjusted close** is the closing price after adjustments for all applicable splits and dividend distributions. Data is adjusted using appropriate split and dividend multipliers, adhering to Center for Research in Security Prices (CRSP) standards."
   ]
  },
  {
   "cell_type": "code",
   "execution_count": null,
   "id": "7fc4a572-2a48-4e53-88a9-d401c7e5172c",
   "metadata": {
    "jupyter": {
     "source_hidden": true
    }
   },
   "outputs": [],
   "source": [
    "yfin.Ticker('ADANIPOWER.NS').history(start=start, end=end)"
   ]
  },
  {
   "cell_type": "markdown",
   "id": "011e8569-ed53-417c-bd4f-e24907e35f11",
   "metadata": {},
   "source": [
    "### [pandas-datareader](https://pandas-datareader.readthedocs.io/en/latest/remote_data.html) for aquiring Stock market data.\n",
    "Functions from pandas_datareader.data and pandas_datareader.wb extract data from various Internet sources into a pandas DataFrame.\n",
    "\n",
    "NSE: National Stock Exchange of India Limited. Learn more from https://www.investopedia.com/terms/n/national_stock_exchange.asp"
   ]
  },
  {
   "cell_type": "markdown",
   "id": "686748d5-d828-4162-a712-655abb3d72b0",
   "metadata": {},
   "source": [
    "#!pip install pandas-datareader\n",
    "from pandas_datareader import data"
   ]
  },
  {
   "cell_type": "code",
   "execution_count": null,
   "id": "799b1878-2b5f-45fb-806c-fb953c4d00e8",
   "metadata": {
    "jupyter": {
     "source_hidden": true
    }
   },
   "outputs": [],
   "source": [
    "#!pip install pandas-datareader\n",
    "from pandas_datareader import data\n",
    "yfin.pdr_override() # See https://pypi.org/project/yfinance/\n",
    "data.get_data_yahoo('GE', start='2019-09-10', end='2019-10-09')"
   ]
  },
  {
   "cell_type": "code",
   "execution_count": null,
   "id": "343d6f6c-6688-48b8-a2dd-8f15397f8128",
   "metadata": {
    "jupyter": {
     "source_hidden": true
    }
   },
   "outputs": [],
   "source": [
    "df_adani = data.get_data_yahoo('ADANIPOWER.NS', start=start, end=end)\n",
    "df_adani.head()"
   ]
  },
  {
   "cell_type": "code",
   "execution_count": null,
   "id": "413ee92a-4bc9-4654-9ef3-182b63358cf6",
   "metadata": {
    "jupyter": {
     "source_hidden": true
    }
   },
   "outputs": [],
   "source": [
    "import seaborn as sns\n",
    "sns.set(rc={'figure.figsize':(12,3)})"
   ]
  },
  {
   "cell_type": "code",
   "execution_count": null,
   "id": "badda5ca-1740-466c-b2b3-24e05b313660",
   "metadata": {
    "jupyter": {
     "source_hidden": true
    }
   },
   "outputs": [],
   "source": [
    "sns.lineplot(df_adani.drop(columns=\"Volume\")).set(title=\"Adani Power stock performance\") #, dashes=False"
   ]
  },
  {
   "cell_type": "code",
   "execution_count": null,
   "id": "4bfef8d1-86d6-4821-8e19-323fedc0b4e6",
   "metadata": {
    "jupyter": {
     "source_hidden": true
    }
   },
   "outputs": [],
   "source": [
    "sns.lineplot(df_adani[[\"Adj Close\"]], markers=True)"
   ]
  },
  {
   "cell_type": "code",
   "execution_count": null,
   "id": "2f581490-c23a-450f-a25d-6a88ee571712",
   "metadata": {
    "jupyter": {
     "source_hidden": true
    }
   },
   "outputs": [],
   "source": [
    "sns.lineplot(df_adani[[\"Adj Close\"]].iloc[-100:-1], markers=True)"
   ]
  },
  {
   "cell_type": "code",
   "execution_count": null,
   "id": "2e9cf6ae-1e4a-446e-a817-efe087186549",
   "metadata": {
    "jupyter": {
     "source_hidden": true
    }
   },
   "outputs": [],
   "source": [
    "import plotly.express as px"
   ]
  },
  {
   "cell_type": "code",
   "execution_count": null,
   "id": "a8a42c69-89ee-455f-96f2-c426f65a1f2d",
   "metadata": {
    "jupyter": {
     "source_hidden": true
    }
   },
   "outputs": [],
   "source": [
    "px.line(df_adani.drop(\"Volume\",axis=1), title=\"Adani Powers stock performance\") #, markers=True"
   ]
  },
  {
   "cell_type": "code",
   "execution_count": null,
   "id": "9ffa10eb-be66-4c98-8c77-5a06b3ebad10",
   "metadata": {
    "jupyter": {
     "source_hidden": true
    }
   },
   "outputs": [],
   "source": [
    "px.line(df_adani.drop(\"Volume\",axis=1), title = \"Adani Power stock performance\")"
   ]
  },
  {
   "cell_type": "code",
   "execution_count": null,
   "id": "e671d0bf-0477-4ad4-9db0-8842d4dd2bef",
   "metadata": {
    "jupyter": {
     "source_hidden": true
    }
   },
   "outputs": [],
   "source": [
    "px.line(df_adani[[\"Adj Close\"]][-100:-1], markers=True)"
   ]
  },
  {
   "cell_type": "markdown",
   "id": "74d478ee-57a1-4ef6-a6ff-120115b05de4",
   "metadata": {},
   "source": [
    "### Pandas DataFrame with Multi-index columns"
   ]
  },
  {
   "cell_type": "code",
   "execution_count": null,
   "id": "58d583c2-2fdb-446d-9cd0-2914e8005889",
   "metadata": {
    "jupyter": {
     "source_hidden": true
    }
   },
   "outputs": [],
   "source": [
    "df = data.get_data_yahoo('ADANIPOWER.NS TATASTEEL.NS RPOWER.NS',start=start, end=end)"
   ]
  },
  {
   "cell_type": "code",
   "execution_count": null,
   "id": "a7ac44cd-d270-4995-9f4f-89a0851550a0",
   "metadata": {
    "jupyter": {
     "source_hidden": true
    }
   },
   "outputs": [],
   "source": [
    "df.head()"
   ]
  },
  {
   "cell_type": "code",
   "execution_count": null,
   "id": "bcef8375-aa39-4ac2-b68e-fb9ad704b906",
   "metadata": {
    "jupyter": {
     "source_hidden": true
    }
   },
   "outputs": [],
   "source": [
    "df[\"Adj Close\"].head()\n",
    "px.line(df[\"Adj Close\"])"
   ]
  },
  {
   "attachments": {},
   "cell_type": "markdown",
   "id": "bc7c4df0-c16f-420f-90a5-b9957d3866ce",
   "metadata": {},
   "source": [
    "### Candlestick plot:\n",
    "A visual tool that shows fluctuations in an asset's past and current prices. The candle has three parts: the upper shadow, the real body, and the lower shadow. Stock market analysts and traders use this tool to anticipate future movement in an asset's price. Each of the candle sticks look like a box plot with completely different meaning.\n",
    "\n",
    "<img title=\"a title\" alt=\"see https://en.wikipedia.org/wiki/Candlestick_chart\"  src=\"candlestick.png\" style=\"width:500px;\">\n"
   ]
  },
  {
   "cell_type": "code",
   "execution_count": null,
   "id": "a89aa6df-2df0-4d73-aad7-6deebcc63c41",
   "metadata": {
    "jupyter": {
     "source_hidden": true
    }
   },
   "outputs": [],
   "source": [
    "#!pip install mplfinance\n",
    "import mplfinance as fin"
   ]
  },
  {
   "cell_type": "code",
   "execution_count": null,
   "id": "e3af54f4-580d-4228-be35-e5c9d9b69daa",
   "metadata": {
    "jupyter": {
     "source_hidden": true
    }
   },
   "outputs": [],
   "source": [
    "fin.plot(df_adani,type='candle',title = \"Adani Power Price\", volume=True)"
   ]
  },
  {
   "cell_type": "code",
   "execution_count": null,
   "id": "57e5052a-da9a-499d-bd69-2c148d7e4d37",
   "metadata": {
    "jupyter": {
     "source_hidden": true
    }
   },
   "outputs": [],
   "source": [
    "fin.plot(df_adani.iloc[-100:-1],type='candle',title = \"Adani Power Price\", volume=True)"
   ]
  },
  {
   "cell_type": "code",
   "execution_count": null,
   "id": "55d12117-5cfa-4d7a-9ad5-f2efc86abd67",
   "metadata": {
    "jupyter": {
     "source_hidden": true
    }
   },
   "outputs": [],
   "source": [
    "fin.plot(df_adani.iloc[-100:-1],\n",
    "         type='candle',\n",
    "         title = \"Adani Power Price\", \n",
    "         style=\"yahoo\",\n",
    "         volume=True)#mav =(3,6,9),\n"
   ]
  },
  {
   "cell_type": "code",
   "execution_count": null,
   "id": "cdafe15e-78a6-4f46-871e-57d6afdeff0a",
   "metadata": {
    "jupyter": {
     "source_hidden": true
    }
   },
   "outputs": [],
   "source": [
    "import plotly.graph_objects as go\n",
    "df=df_adani.iloc[-100:-1].copy()\n",
    "go.Figure(data=[go.Candlestick(x=df.index,\n",
    "                open=df['Open'], high=df['High'],\n",
    "                low=df['Low'], close=df['Close'])]\n",
    "         ).update_layout(title=\"Adani Power Price\",height=500)"
   ]
  },
  {
   "cell_type": "markdown",
   "id": "ed9b8188-8035-4771-b6be-92b2d15a78c3",
   "metadata": {},
   "source": [
    "### Radar Chart Chart\n",
    "Example: Monthly local min/max temperature Data in a year./"
   ]
  },
  {
   "cell_type": "code",
   "execution_count": null,
   "id": "ad5f7b12-88c4-4f78-ae0b-981ffe4c9098",
   "metadata": {
    "jupyter": {
     "source_hidden": true
    }
   },
   "outputs": [],
   "source": [
    "df0 = pd.read_csv(\"temperature.csv\")"
   ]
  },
  {
   "cell_type": "code",
   "execution_count": null,
   "id": "e16cff08-934b-4bd7-bee0-266feac61949",
   "metadata": {
    "jupyter": {
     "source_hidden": true
    }
   },
   "outputs": [],
   "source": [
    "df0"
   ]
  },
  {
   "cell_type": "code",
   "execution_count": null,
   "id": "b1ad8158-fe95-4eac-8c08-e68923807612",
   "metadata": {
    "jupyter": {
     "source_hidden": true
    }
   },
   "outputs": [],
   "source": [
    "df=df0.copy()\n",
    "df.set_index(\"month\", inplace=True)"
   ]
  },
  {
   "cell_type": "code",
   "execution_count": null,
   "id": "f8591e1b",
   "metadata": {
    "jupyter": {
     "source_hidden": true
    }
   },
   "outputs": [],
   "source": [
    "df.index"
   ]
  },
  {
   "cell_type": "code",
   "execution_count": null,
   "id": "e6401908-badb-4298-88c2-6c8e34f20e69",
   "metadata": {
    "jupyter": {
     "source_hidden": true
    }
   },
   "outputs": [],
   "source": [
    "df.index=pd.to_datetime(df.index, format=\"%y-%b\") \n",
    "df.index"
   ]
  },
  {
   "cell_type": "code",
   "execution_count": null,
   "id": "1d4b2e3b-95f2-4560-b888-093867a6ea02",
   "metadata": {
    "jupyter": {
     "source_hidden": true
    }
   },
   "outputs": [],
   "source": [
    "px.line(df,title=\"Monthly Min Max Temperature\",markers=True)"
   ]
  },
  {
   "cell_type": "code",
   "execution_count": null,
   "id": "a2de13e9-a9b6-469a-a6e9-ab0651b7a98b",
   "metadata": {
    "jupyter": {
     "source_hidden": true
    }
   },
   "outputs": [],
   "source": [
    "sns.lineplot(df).set_title(\"Monthly Min Max Temperature\")"
   ]
  },
  {
   "cell_type": "code",
   "execution_count": null,
   "id": "b4871e0b-1662-40d5-9ac4-8b6d45fa71d5",
   "metadata": {
    "jupyter": {
     "source_hidden": true
    }
   },
   "outputs": [],
   "source": [
    "sns.lineplot(df, dashes=False).set_title(\"Monthly Min Max Temperature\")"
   ]
  },
  {
   "cell_type": "code",
   "execution_count": null,
   "id": "1e02b550-696f-411e-b7e8-a57c33eac4f7",
   "metadata": {
    "jupyter": {
     "source_hidden": true
    }
   },
   "outputs": [],
   "source": [
    "df"
   ]
  },
  {
   "cell_type": "code",
   "execution_count": null,
   "id": "008f15db-e393-42f1-a451-da7c3a2520f6",
   "metadata": {
    "jupyter": {
     "source_hidden": true
    }
   },
   "outputs": [],
   "source": [
    "df1=df.reset_index()"
   ]
  },
  {
   "cell_type": "code",
   "execution_count": null,
   "id": "70eba12d-8835-40aa-bb6b-04440629c443",
   "metadata": {
    "jupyter": {
     "source_hidden": true
    }
   },
   "outputs": [],
   "source": [
    "df1[\"month name\"] = df1[\"month\"].dt.month_name()\n",
    "df1"
   ]
  },
  {
   "cell_type": "code",
   "execution_count": null,
   "id": "601e1074-f265-4f70-8946-b66ddd573b3b",
   "metadata": {
    "jupyter": {
     "source_hidden": true
    }
   },
   "outputs": [],
   "source": [
    "px.line_polar(df1, r=\"max\", theta=\"month name\", line_close=True, height = 500)"
   ]
  },
  {
   "cell_type": "code",
   "execution_count": null,
   "id": "5c98de0e-fc22-4dfa-b3a8-3c2b2f94cf52",
   "metadata": {
    "jupyter": {
     "source_hidden": true
    }
   },
   "outputs": [],
   "source": []
  },
  {
   "cell_type": "markdown",
   "id": "ebcc5843-ca75-427d-9517-748a91b26bb4",
   "metadata": {},
   "source": [
    "### Convert a DataFrame from Wide format to long format\n",
    "A *wide format* contains values that do not repeat values in the columns.\n",
    "\r\n",
    "*A long form*at contains values that do repemn."
   ]
  },
  {
   "cell_type": "code",
   "execution_count": null,
   "id": "4fba4a4c-7b4c-43e6-9d2d-1feae224bdbb",
   "metadata": {
    "jupyter": {
     "source_hidden": true
    }
   },
   "outputs": [],
   "source": [
    "df1.head()"
   ]
  },
  {
   "cell_type": "markdown",
   "id": "27aeb162",
   "metadata": {},
   "source": [
    "df_2017_melt = pd.melt(df_2017.reset_index(), id_vars=[\"index\"], value_vars=['Min', 'Max'])\n",
    "df_2017_melt.head()"
   ]
  },
  {
   "cell_type": "code",
   "execution_count": null,
   "id": "c0f9203b-5715-4671-b8ed-b8df02489e68",
   "metadata": {
    "jupyter": {
     "source_hidden": true
    }
   },
   "outputs": [],
   "source": [
    "df_melt = pd.melt(df1, id_vars=[\"month\", \"month name\"], value_vars=['min', 'max'], var_name='Stat', value_name='temperature')\n",
    "df_melt"
   ]
  },
  {
   "cell_type": "code",
   "execution_count": null,
   "id": "d0339838",
   "metadata": {
    "jupyter": {
     "source_hidden": true
    }
   },
   "outputs": [],
   "source": [
    "px.line_polar(df_melt, r=\"temperature\", theta=\"month name\", color=\"Stat\", line_close=True, title = \"Monthly Min Max temperatures\", height=500)"
   ]
  },
  {
   "cell_type": "code",
   "execution_count": null,
   "id": "71ae554e",
   "metadata": {
    "jupyter": {
     "source_hidden": true
    }
   },
   "outputs": [],
   "source": []
  }
 ],
 "metadata": {
  "kernelspec": {
   "display_name": "Python 3 (ipykernel)",
   "language": "python",
   "name": "python3"
  },
  "language_info": {
   "codemirror_mode": {
    "name": "ipython",
    "version": 3
   },
   "file_extension": ".py",
   "mimetype": "text/x-python",
   "name": "python",
   "nbconvert_exporter": "python",
   "pygments_lexer": "ipython3",
   "version": "3.11.4"
  }
 },
 "nbformat": 4,
 "nbformat_minor": 5
}
