{
 "cells": [
  {
   "cell_type": "code",
   "execution_count": null,
   "id": "2ef6642a-2097-4e36-b745-c737cd5a0f69",
   "metadata": {
    "jupyter": {
     "source_hidden": true
    }
   },
   "outputs": [],
   "source": [
    "import pandas as pd\n",
    "import plotly.express as px\n",
    "import matplotlib.pyplot as plt\n",
    "import seaborn as sns\n",
    "#!pip install xlrd"
   ]
  },
  {
   "cell_type": "markdown",
   "id": "3d18e067-cafa-49a1-95e5-c672baff6a82",
   "metadata": {},
   "source": [
    "### Pie Chart of Religion Composition of India\n",
    "Data Source: https://censusindia.gov.in"
   ]
  },
  {
   "cell_type": "raw",
   "id": "ca5877e1-3d84-4fa6-9f49-b22812812cae",
   "metadata": {},
   "source": [
    "url = \"https://censusindia.gov.in/nada/index.php/catalog/11361/download/14474/DDW00C-01%20MDDS.XLS\"\n",
    "df = pd.read_excel(url)\n",
    "df.head(6)"
   ]
  },
  {
   "cell_type": "code",
   "execution_count": null,
   "id": "b0c161e9-6589-4438-b09b-84505cb2cdc1",
   "metadata": {
    "jupyter": {
     "source_hidden": true
    }
   },
   "outputs": [],
   "source": [
    "url = \"https://censusindia.gov.in/nada/index.php/catalog/11361/download/14474/DDW00C-01%20MDDS.XLS\"\n",
    "df = pd.read_excel(url)\n",
    "#url = \"DDW00C-01 MDDS.csv\"\n",
    "#df = pd.read_csv(url)\n",
    "df.head(6)"
   ]
  },
  {
   "cell_type": "code",
   "execution_count": null,
   "id": "4075fa2f-3184-4e6f-82c7-6cb560f0f34f",
   "metadata": {
    "jupyter": {
     "source_hidden": true
    }
   },
   "outputs": [],
   "source": [
    "df=pd.read_excel(url,header = [2,3], index_col = [5,6])\n",
    "#df=pd.read_csv(url,header = [2,3], index_col = [5,6])\n",
    "df.head(6)"
   ]
  },
  {
   "cell_type": "code",
   "execution_count": null,
   "id": "05e05d78-1a89-473e-aeb5-db6088189b13",
   "metadata": {
    "jupyter": {
     "source_hidden": true
    }
   },
   "outputs": [],
   "source": [
    "df.columns.values"
   ]
  },
  {
   "cell_type": "code",
   "execution_count": null,
   "id": "6fdebe1c-a013-4e5b-a22f-188fb343e62e",
   "metadata": {
    "jupyter": {
     "source_hidden": true
    }
   },
   "outputs": [],
   "source": [
    "df.loc[(\"INDIA\",\"Total\")][(\"Total\", \"Persons\")]"
   ]
  },
  {
   "cell_type": "code",
   "execution_count": null,
   "id": "89903dd5-e370-4272-bd0d-1ca06e8ccf14",
   "metadata": {
    "jupyter": {
     "source_hidden": true
    }
   },
   "outputs": [],
   "source": [
    "df.loc[(\"INDIA\",slice(None)),(\"Total\", slice(None))].loc[\"INDIA\"]"
   ]
  },
  {
   "cell_type": "code",
   "execution_count": null,
   "id": "0780e33a-09df-4ada-855d-f3a93405e7f9",
   "metadata": {
    "jupyter": {
     "source_hidden": true
    }
   },
   "outputs": [],
   "source": [
    "religion_columns = df.columns.get_level_values(0).unique()[3:]\n",
    "religion_columns"
   ]
  },
  {
   "cell_type": "code",
   "execution_count": null,
   "id": "eadfabc8-aa4f-4d52-9fec-47734a3ee4fe",
   "metadata": {
    "jupyter": {
     "source_hidden": true
    }
   },
   "outputs": [],
   "source": [
    "df.loc[(\"INDIA\",slice(None)),(religion_columns, \"Persons\")].loc[\"INDIA\"]"
   ]
  },
  {
   "cell_type": "code",
   "execution_count": null,
   "id": "3a9483a6-7b59-4a56-8e7c-15e43cbdb022",
   "metadata": {
    "jupyter": {
     "source_hidden": true
    }
   },
   "outputs": [],
   "source": [
    "df.loc[(\"INDIA\",slice(None)),(religion_columns, slice(None))].loc[\"INDIA\"]"
   ]
  },
  {
   "cell_type": "code",
   "execution_count": null,
   "id": "5c2768bc-44d7-4a0e-8e6c-fd5582035ba7",
   "metadata": {
    "jupyter": {
     "source_hidden": true
    }
   },
   "outputs": [],
   "source": [
    "df1=df.loc[(\"INDIA\",slice(None)),(religion_columns, \"Persons\")].loc[\"INDIA\"]"
   ]
  },
  {
   "cell_type": "code",
   "execution_count": null,
   "id": "78113779-725a-45ee-af20-aa04f9c258ea",
   "metadata": {
    "jupyter": {
     "source_hidden": true
    }
   },
   "outputs": [],
   "source": [
    "df1.head()"
   ]
  },
  {
   "cell_type": "code",
   "execution_count": null,
   "id": "6b211c9c-18ac-4ee4-b7e8-f98c964d5547",
   "metadata": {
    "jupyter": {
     "source_hidden": true
    }
   },
   "outputs": [],
   "source": [
    "df1.head()"
   ]
  },
  {
   "cell_type": "code",
   "execution_count": null,
   "id": "bf4165e4-e77d-45ff-ae71-0da6d16aa125",
   "metadata": {
    "jupyter": {
     "source_hidden": true
    }
   },
   "outputs": [],
   "source": [
    "df1"
   ]
  },
  {
   "cell_type": "code",
   "execution_count": null,
   "id": "9c38b846-cf75-46ae-b927-9c0ca348cbe5",
   "metadata": {
    "jupyter": {
     "source_hidden": true
    }
   },
   "outputs": [],
   "source": [
    "df1.columns=df1.columns.get_level_values(0)\n",
    "df1"
   ]
  },
  {
   "cell_type": "code",
   "execution_count": null,
   "id": "692bbd3e-9414-4257-9360-db7a09b5d9e1",
   "metadata": {
    "jupyter": {
     "source_hidden": true
    }
   },
   "outputs": [],
   "source": [
    "df1.T"
   ]
  },
  {
   "cell_type": "code",
   "execution_count": null,
   "id": "2645aa6e-268e-484f-81af-f8fff242b0b8",
   "metadata": {
    "jupyter": {
     "source_hidden": true
    }
   },
   "outputs": [],
   "source": [
    "df2 = df1.T\n",
    "df2.head()"
   ]
  },
  {
   "cell_type": "code",
   "execution_count": null,
   "id": "b7806720-da87-4a1c-9898-152945c1373c",
   "metadata": {
    "jupyter": {
     "source_hidden": true
    }
   },
   "outputs": [],
   "source": [
    "df2 = df2.reset_index()\n",
    "df2.head()"
   ]
  },
  {
   "cell_type": "code",
   "execution_count": null,
   "id": "956a4528",
   "metadata": {
    "jupyter": {
     "source_hidden": true
    }
   },
   "outputs": [],
   "source": [
    "df3 = df2.rename(columns = {\"Rural/\":\"Religion\"})\n",
    "df3"
   ]
  },
  {
   "cell_type": "code",
   "execution_count": null,
   "id": "1339e22a-190e-472c-872a-070634060440",
   "metadata": {
    "jupyter": {
     "source_hidden": true
    }
   },
   "outputs": [],
   "source": [
    "fig = px.pie(df3, values='Total', names='Religion', height = 500, title='Religions composition of India')\n",
    "fig.show()"
   ]
  },
  {
   "cell_type": "code",
   "execution_count": null,
   "id": "43b52dc5-059c-48cc-b687-839ecac20904",
   "metadata": {
    "jupyter": {
     "source_hidden": true
    }
   },
   "outputs": [],
   "source": [
    "df3"
   ]
  },
  {
   "cell_type": "code",
   "execution_count": null,
   "id": "6ef43b5d-3cd8-4d6c-af9c-c3246fee44e9",
   "metadata": {
    "jupyter": {
     "source_hidden": true
    }
   },
   "outputs": [],
   "source": [
    "others = df3.iloc[[4,5,6,7]].sum()\n",
    "others"
   ]
  },
  {
   "cell_type": "code",
   "execution_count": null,
   "id": "fbe26da5-1d6b-460d-a3f2-675420be0901",
   "metadata": {
    "jupyter": {
     "source_hidden": true
    }
   },
   "outputs": [],
   "source": [
    "df3=df3.drop([4,5,6,7],axis=0)\n",
    "df3"
   ]
  },
  {
   "cell_type": "code",
   "execution_count": null,
   "id": "b991fcd8-90e6-45e0-95e9-b1e91781ecbc",
   "metadata": {
    "jupyter": {
     "source_hidden": true
    }
   },
   "outputs": [],
   "source": [
    "others[0]"
   ]
  },
  {
   "cell_type": "code",
   "execution_count": null,
   "id": "74a0cd9b-28d8-4d6e-a076-02c6841f8fbe",
   "metadata": {
    "jupyter": {
     "source_hidden": true
    }
   },
   "outputs": [],
   "source": [
    "others[0]=\"Others\""
   ]
  },
  {
   "cell_type": "code",
   "execution_count": null,
   "id": "4be0f7bf-db44-4efd-821d-4a6dc5fae134",
   "metadata": {
    "jupyter": {
     "source_hidden": true
    }
   },
   "outputs": [],
   "source": [
    "df3.loc[4]=others"
   ]
  },
  {
   "cell_type": "code",
   "execution_count": null,
   "id": "3a5cacfa-04d4-482e-9063-29b7469adbe9",
   "metadata": {
    "jupyter": {
     "source_hidden": true
    }
   },
   "outputs": [],
   "source": [
    "df3"
   ]
  },
  {
   "cell_type": "code",
   "execution_count": null,
   "id": "b18de4f5-59d1-4068-af43-36d303c560c9",
   "metadata": {
    "jupyter": {
     "source_hidden": true
    }
   },
   "outputs": [],
   "source": [
    "px.pie(df3, values='Total', names='Religion', title='Religions composition of India', height=500, width = 500)"
   ]
  },
  {
   "cell_type": "markdown",
   "id": "08574c7e-60c4-48e0-b574-6fbe602bb892",
   "metadata": {},
   "source": [
    "# "
   ]
  },
  {
   "cell_type": "code",
   "execution_count": null,
   "id": "d67afe9c-2800-432c-a49f-bd69d6a6dd1f",
   "metadata": {
    "jupyter": {
     "source_hidden": true
    }
   },
   "outputs": [],
   "source": [
    "px.pie(df3, values='Total', names='Religion', title='Religions composition of India', height=600, width = 600, hole=0.5).update_layout(\n",
    "    legend={\"x\": 0.5,\"y\": 0.5, \"xanchor\" : \"center\"})"
   ]
  },
  {
   "cell_type": "code",
   "execution_count": null,
   "id": "06fcfb16-550e-43c9-9233-f34570669bf5",
   "metadata": {
    "jupyter": {
     "source_hidden": true
    }
   },
   "outputs": [],
   "source": [
    "px.pie(df3, values='Total', names='Religion', title='Religions composition of India', height=600, width = 600, hole=0.5).update_layout(\n",
    "    legend={\"x\": 0.5,\"y\": 0.5, \"xanchor\" : \"center\"}).update_traces(pull=0.1)"
   ]
  },
  {
   "cell_type": "code",
   "execution_count": null,
   "id": "8606d5a4-6c12-4311-a840-4d61ac254834",
   "metadata": {
    "jupyter": {
     "source_hidden": true
    }
   },
   "outputs": [],
   "source": [
    "px.pie(df3, values='Total', names='Religion', title='Religions composition of India', height=600, width = 600, hole=0.6).update_layout(\n",
    "    legend={\"x\": 0.5,\"y\": 0.5, \"xanchor\" : \"center\"}).update_traces(pull=[0,0.1])"
   ]
  },
  {
   "cell_type": "code",
   "execution_count": null,
   "id": "83d4986c-a212-4ffc-b2a9-7b2e4551f708",
   "metadata": {
    "jupyter": {
     "source_hidden": true
    }
   },
   "outputs": [],
   "source": [
    "import matplotlib.pyplot as plt"
   ]
  },
  {
   "cell_type": "code",
   "execution_count": null,
   "id": "b8248677-e92f-44d4-829f-e43130c06214",
   "metadata": {
    "jupyter": {
     "source_hidden": true
    }
   },
   "outputs": [],
   "source": [
    "plt.pie(df3[\"Total\"], counterclock = False, startangle = 90, autopct = '%1.0f%%', pctdistance=1.1,wedgeprops=dict(width=0.5))\n",
    "plt.legend(df3[\"Religion\"], \n",
    "           loc=\"center left\",\n",
    "          bbox_to_anchor=(1, 0, 0.5, 1))\n",
    "plt.show()"
   ]
  },
  {
   "cell_type": "code",
   "execution_count": null,
   "id": "77d2590e-25e2-414b-9f54-4f47f7028c68",
   "metadata": {
    "jupyter": {
     "source_hidden": true
    }
   },
   "outputs": [],
   "source": [
    "df3"
   ]
  },
  {
   "cell_type": "code",
   "execution_count": null,
   "id": "64634d14-9619-4af7-9767-ed2e9e60ba00",
   "metadata": {
    "jupyter": {
     "source_hidden": true
    }
   },
   "outputs": [],
   "source": [
    "plt.pie(df3[\"Total\"], counterclock = False, startangle = 90, autopct = '%1.0f%%', pctdistance=1.1,\n",
    "        wedgeprops=dict(width=0.3), \n",
    "        explode = [0,0.1,0,0,0])\n",
    "plt.legend(df3[\"Religion\"], \n",
    "           loc=\"center left\",\n",
    "          bbox_to_anchor=(1, 0, 0.5, 1))\n",
    "plt.show()"
   ]
  },
  {
   "cell_type": "markdown",
   "id": "6f9411aa-0e2d-4118-8023-6628db21efb7",
   "metadata": {},
   "source": [
    "### Waffle chart using pywaffle"
   ]
  },
  {
   "cell_type": "code",
   "execution_count": null,
   "id": "accd2f11-8b14-4e53-8f30-ab9d48616a13",
   "metadata": {
    "jupyter": {
     "source_hidden": true
    }
   },
   "outputs": [],
   "source": [
    "#!pip install pywaffle"
   ]
  },
  {
   "cell_type": "code",
   "execution_count": null,
   "id": "fec459e3-bada-4bbf-a670-8b15b815f031",
   "metadata": {
    "jupyter": {
     "source_hidden": true
    }
   },
   "outputs": [],
   "source": [
    "# python program to generate Waffle Chart\n",
    "\n",
    "from pywaffle import Waffle\n"
   ]
  },
  {
   "cell_type": "code",
   "execution_count": null,
   "id": "b57d4406-6c43-44a4-963d-d620877010e5",
   "metadata": {
    "jupyter": {
     "source_hidden": true
    }
   },
   "outputs": [],
   "source": [
    "values = 100*df3[\"Total\"]/df3[\"Total\"].sum()"
   ]
  },
  {
   "cell_type": "code",
   "execution_count": null,
   "id": "b1ae9afc-8f81-4272-b4de-c0ac97479715",
   "metadata": {
    "jupyter": {
     "source_hidden": true
    }
   },
   "outputs": [],
   "source": [
    "labels = list(df3[\"Religion\"])"
   ]
  },
  {
   "cell_type": "code",
   "execution_count": null,
   "id": "06886872-16b2-43a9-bd97-7c324f41c83e",
   "metadata": {
    "jupyter": {
     "source_hidden": true
    }
   },
   "outputs": [],
   "source": [
    "fig=plt.figure(\tFigureClass = Waffle, values = values, labels = labels, rows = 10)"
   ]
  },
  {
   "cell_type": "code",
   "execution_count": null,
   "id": "42ed0a8f-4b92-4724-9661-85226026da40",
   "metadata": {
    "jupyter": {
     "source_hidden": true
    }
   },
   "outputs": [],
   "source": [
    "plt.figure(\n",
    "\tFigureClass = Waffle,\n",
    "\trows = 10,\n",
    "    columns = 10,\n",
    "\tvalues = values,\n",
    "\tlabels = labels,\n",
    "    characters = ['H','M','C','S','O'],\n",
    "    legend={'loc': 'upper left', 'bbox_to_anchor': (1, 1)}\n",
    ")\n",
    "plt.show()"
   ]
  }
 ],
 "metadata": {
  "kernelspec": {
   "display_name": "Python 3 (ipykernel)",
   "language": "python",
   "name": "python3"
  },
  "language_info": {
   "codemirror_mode": {
    "name": "ipython",
    "version": 3
   },
   "file_extension": ".py",
   "mimetype": "text/x-python",
   "name": "python",
   "nbconvert_exporter": "python",
   "pygments_lexer": "ipython3",
   "version": "3.11.4"
  }
 },
 "nbformat": 4,
 "nbformat_minor": 5
}
