{
 "cells": [
  {
   "cell_type": "markdown",
   "id": "d66423fa-d95a-44f3-91c4-bd6c920b789f",
   "metadata": {},
   "source": [
    "### [DOM model of HTML page](https://developer.mozilla.org/en-US/docs/Web/API/Document_Object_Model) and Table Scraping"
   ]
  },
  {
   "cell_type": "markdown",
   "id": "a355b91c-2dec-474c-8f9a-466863482b2b",
   "metadata": {},
   "source": [
    "[Beautiful Soup](https://beautiful-soup-4.readthedocs.io/en/latest/) is a Python library for pulling data out of HTML and XML files using a DOM parser such as html5lin, lxml, etc..."
   ]
  },
  {
   "cell_type": "markdown",
   "id": "bacf61cb-9aa7-4928-891f-6bf8fc444c9e",
   "metadata": {},
   "source": [
    "Note:  \n",
    "DOM stands for Document Object Model. It [represents a document with a logical tree](https://en.wikipedia.org/wiki/Document_Object_Model#/media/File:DOM-model.svg). Each branch of the tree ends in a node, and each node contains objects. DOM methods allow programmatic access to the tree.>"
   ]
  },
  {
   "cell_type": "code",
   "execution_count": null,
   "id": "e3585e5a-ec6c-4e69-a788-ad01c4ad0187",
   "metadata": {
    "jupyter": {
     "source_hidden": true
    },
    "scrolled": true
   },
   "outputs": [],
   "source": [
    "import requests\n",
    "#!pip install beautifulsoup4\n",
    "#pip install html5lib\n",
    "#or !pip install lxml\n",
    "from bs4 import BeautifulSoup\n",
    "import pandas as pd"
   ]
  },
  {
   "cell_type": "code",
   "execution_count": null,
   "id": "52427d15-06e4-4002-8b0b-55208a7cd9db",
   "metadata": {
    "jupyter": {
     "source_hidden": true
    }
   },
   "outputs": [],
   "source": [
    "url = \"https://raw.githubusercontent.com/mdn/css-examples/main/learn/tasks/tables/table-download.html\"\n",
    "r = requests.get(url)"
   ]
  },
  {
   "cell_type": "code",
   "execution_count": null,
   "id": "a097f1a8-7d24-4188-b2f3-f38877204c0e",
   "metadata": {
    "jupyter": {
     "source_hidden": true
    }
   },
   "outputs": [],
   "source": [
    "r.text"
   ]
  },
  {
   "cell_type": "code",
   "execution_count": null,
   "id": "14b18ce8-d048-49c5-8e06-19ec65d447f4",
   "metadata": {
    "jupyter": {
     "source_hidden": true
    }
   },
   "outputs": [],
   "source": [
    "soup = BeautifulSoup(r.text, 'html.parser')\n",
    "#soup = BeautifulSoup(r.text, 'lxml')\n",
    "soup"
   ]
  },
  {
   "cell_type": "code",
   "execution_count": null,
   "id": "204c5599-6ef7-4855-8352-edf755ce6956",
   "metadata": {
    "jupyter": {
     "source_hidden": true
    }
   },
   "outputs": [],
   "source": [
    "soup.head"
   ]
  },
  {
   "cell_type": "code",
   "execution_count": null,
   "id": "01c824bf-f502-487e-bcce-565f89a153e6",
   "metadata": {
    "jupyter": {
     "source_hidden": true
    }
   },
   "outputs": [],
   "source": [
    "soup.body"
   ]
  },
  {
   "cell_type": "code",
   "execution_count": null,
   "id": "f8ee15bd-fdc1-4ed5-91b4-c51bece90fb7",
   "metadata": {
    "jupyter": {
     "source_hidden": true
    }
   },
   "outputs": [],
   "source": [
    "soup.body.table"
   ]
  },
  {
   "cell_type": "code",
   "execution_count": null,
   "id": "4c5ac976-2954-4cff-8ebd-1730287c34b6",
   "metadata": {
    "jupyter": {
     "source_hidden": true
    }
   },
   "outputs": [],
   "source": [
    "soup.body.table.thead"
   ]
  },
  {
   "cell_type": "code",
   "execution_count": null,
   "id": "9505aef4-34a8-411c-86b7-964e8e8586d5",
   "metadata": {
    "jupyter": {
     "source_hidden": true
    }
   },
   "outputs": [],
   "source": [
    "ths=soup.body.table.thead.find_all('th')\n",
    "ths"
   ]
  },
  {
   "cell_type": "code",
   "execution_count": null,
   "id": "e755f382-2eaa-4d75-b293-9af766637d32",
   "metadata": {
    "jupyter": {
     "source_hidden": true
    }
   },
   "outputs": [],
   "source": [
    "columns = [row.get_text() for row in ths]\n",
    "columns"
   ]
  },
  {
   "cell_type": "code",
   "execution_count": null,
   "id": "e7406230-91be-4ca9-9a74-5fac2ae5c5b9",
   "metadata": {
    "jupyter": {
     "source_hidden": true
    }
   },
   "outputs": [],
   "source": [
    "soup.body.table.tbody"
   ]
  },
  {
   "cell_type": "code",
   "execution_count": null,
   "id": "6fb479e5-18ad-4d31-beed-9f95553e9ab8",
   "metadata": {
    "jupyter": {
     "source_hidden": true
    }
   },
   "outputs": [],
   "source": [
    "trs = soup.body.table.tbody.find_all('tr')\n",
    "trs"
   ]
  },
  {
   "cell_type": "code",
   "execution_count": null,
   "id": "6582ff4d-79d7-4e5d-9408-d4a5829a9c78",
   "metadata": {
    "jupyter": {
     "source_hidden": true
    }
   },
   "outputs": [],
   "source": [
    "for row in trs:\n",
    "    ths = row.find_all('th')\n",
    "    tds = row.find_all('td')\n",
    "    \n",
    "    rowData = [h_or_d.get_text() for h_or_d in ths+tds]\n",
    "    print (rowData)"
   ]
  },
  {
   "cell_type": "code",
   "execution_count": null,
   "id": "d3551cf9-6c62-4c07-8a9d-c32337593678",
   "metadata": {
    "jupyter": {
     "source_hidden": true
    }
   },
   "outputs": [],
   "source": [
    "soup.body.table.tfoot"
   ]
  },
  {
   "cell_type": "markdown",
   "id": "c6b6287b-61bc-4f26-9e46-ee39dacad5c9",
   "metadata": {},
   "source": [
    "### [pd.read_html](https://pandas.pydata.org/docs/reference/api/pandas.read_html.html)\n",
    "A simple table scraping wrapper built on the top of beautifulsoup"
   ]
  },
  {
   "cell_type": "code",
   "execution_count": null,
   "id": "10e5fbd6-c2c8-4556-a11a-db8b2a8d5709",
   "metadata": {
    "jupyter": {
     "source_hidden": true
    }
   },
   "outputs": [],
   "source": [
    "url = \"https://ourworldindata.org/the-worlds-deadliest-earthquakes\"\n",
    "tables = pd.read_html(url, encoding='utf-8')\n",
    "len(tables)"
   ]
  },
  {
   "cell_type": "code",
   "execution_count": null,
   "id": "219a63d9-46ff-4400-941d-b75b8b2e98ac",
   "metadata": {
    "jupyter": {
     "source_hidden": true
    }
   },
   "outputs": [],
   "source": [
    "tables[0]"
   ]
  },
  {
   "cell_type": "markdown",
   "id": "99f3eba1-95d5-47d6-9791-8908eef48deb",
   "metadata": {},
   "source": [
    "### [tabula-py](https://nbviewer.org/github/chezou/tabula-py/blob/master/examples/tabula_example.ipynb): A PDF table scraper\n",
    "tabula-py is a tool to convert PDF tables to pandas DataFrame. tabula-py is a wrapper of tabula-java, which requires java on your machine."
   ]
  },
  {
   "cell_type": "code",
   "execution_count": null,
   "id": "61977ba1-4bf2-4f16-a9e1-17d7d187190e",
   "metadata": {
    "jupyter": {
     "source_hidden": true
    }
   },
   "outputs": [],
   "source": [
    "#!pip install tabula-py\n",
    "from tabula import read_pdf\n",
    "url = \"https://github.com/chezou/tabula-py/raw/master/tests/resources/data.pdf\"\n",
    "tables = read_pdf(url, pages='all')\n",
    "len(tables)"
   ]
  },
  {
   "cell_type": "code",
   "execution_count": null,
   "id": "03d58629-7076-4f9e-bff2-ca988067e777",
   "metadata": {
    "jupyter": {
     "source_hidden": true
    }
   },
   "outputs": [],
   "source": [
    "tables[0]"
   ]
  },
  {
   "cell_type": "code",
   "execution_count": null,
   "id": "7ede7e39-403a-4473-a701-1d0c4ac3e8f8",
   "metadata": {
    "collapsed": true,
    "jupyter": {
     "outputs_hidden": true,
     "source_hidden": true
    }
   },
   "outputs": [],
   "source": [
    "tables[1]"
   ]
  }
 ],
 "metadata": {
  "kernelspec": {
   "display_name": "Python 3 (ipykernel)",
   "language": "python",
   "name": "python3"
  },
  "language_info": {
   "codemirror_mode": {
    "name": "ipython",
    "version": 3
   },
   "file_extension": ".py",
   "mimetype": "text/x-python",
   "name": "python",
   "nbconvert_exporter": "python",
   "pygments_lexer": "ipython3",
   "version": "3.11.4"
  }
 },
 "nbformat": 4,
 "nbformat_minor": 5
}
