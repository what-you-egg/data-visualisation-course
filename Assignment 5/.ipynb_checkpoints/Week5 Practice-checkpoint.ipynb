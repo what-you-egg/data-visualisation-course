{
 "cells": [
  {
   "cell_type": "code",
   "execution_count": null,
   "id": "2ef6642a-2097-4e36-b745-c737cd5a0f69",
   "metadata": {
    "jupyter": {
     "source_hidden": true
    }
   },
   "outputs": [],
   "source": [
    "import pandas as pd\n",
    "import plotly.express as px\n",
    "import matplotlib.pyplot as plt\n",
    "import seaborn as sns"
   ]
  },
  {
   "cell_type": "code",
   "execution_count": null,
   "id": "725495cb-70f1-4303-a923-c0eac6480eb1",
   "metadata": {
    "jupyter": {
     "source_hidden": true
    }
   },
   "outputs": [],
   "source": [
    "pd.read_csv(\"IndiaTop10Cities.csv\")"
   ]
  },
  {
   "cell_type": "code",
   "execution_count": null,
   "id": "38438bfa-a794-4da3-bb25-3b1d8c450d3f",
   "metadata": {
    "jupyter": {
     "source_hidden": true
    }
   },
   "outputs": [],
   "source": [
    "df = pd.read_csv(\"IndiaTop10Cities.csv\",thousands=',')# data source https://worldpopulationreview.com/countries/india-population\n",
    "df"
   ]
  },
  {
   "cell_type": "code",
   "execution_count": null,
   "id": "296afe5d-801b-424e-b51a-16752de57e34",
   "metadata": {
    "jupyter": {
     "source_hidden": true
    }
   },
   "outputs": [],
   "source": [
    "df.info()"
   ]
  },
  {
   "cell_type": "code",
   "execution_count": null,
   "id": "22e9493f",
   "metadata": {
    "jupyter": {
     "source_hidden": true
    }
   },
   "outputs": [],
   "source": [
    "px.bar(df, x=\"City\", y=\"Population\", width=700, title=\"Current Population of the top 10 Cities.\")"
   ]
  },
  {
   "cell_type": "code",
   "execution_count": null,
   "id": "a7221af8",
   "metadata": {
    "jupyter": {
     "source_hidden": true
    }
   },
   "outputs": [],
   "source": [
    "px.bar(df, x=\"City\", y=\"Population\", width=700, title=\"Current Population of the top 10 Cities.\").update_layout(\n",
    "    xaxis={\"categoryorder\":'category ascending'})"
   ]
  },
  {
   "cell_type": "code",
   "execution_count": null,
   "id": "cd09d826-5e81-4692-bf2f-2e2482f4e610",
   "metadata": {
    "jupyter": {
     "source_hidden": true
    }
   },
   "outputs": [],
   "source": [
    "px.bar(df.sort_values(by=['City']), x=\"City\", y=\"Population\", width=700, title=\"Current Population of the top 10 Cities.\")"
   ]
  },
  {
   "cell_type": "code",
   "execution_count": null,
   "id": "58c6c2f7",
   "metadata": {
    "jupyter": {
     "source_hidden": true
    }
   },
   "outputs": [],
   "source": [
    "px.bar(df, y=\"City\", x=\"Population\", width=700)"
   ]
  },
  {
   "cell_type": "code",
   "execution_count": null,
   "id": "b92bd4ac",
   "metadata": {
    "jupyter": {
     "source_hidden": true
    }
   },
   "outputs": [],
   "source": [
    "px.bar(df, y=\"City\", x=\"Population\", width=700).update_layout(yaxis={'categoryorder':'total ascending'})"
   ]
  },
  {
   "cell_type": "code",
   "execution_count": null,
   "id": "b73616a6-19ab-4a94-9b0d-3ee6a729704b",
   "metadata": {
    "jupyter": {
     "source_hidden": true
    }
   },
   "outputs": [],
   "source": [
    "px.bar(df, y=\"City\", x=\"Population\", width=700).update_layout(yaxis={'categoryorder':'category descending'})"
   ]
  },
  {
   "cell_type": "code",
   "execution_count": null,
   "id": "32bde1f2",
   "metadata": {
    "jupyter": {
     "source_hidden": true
    }
   },
   "outputs": [],
   "source": [
    "sns.barplot(df,x=\"Population\",y=\"City\", color = \"royalblue\")"
   ]
  },
  {
   "cell_type": "code",
   "execution_count": null,
   "id": "2f5b6397",
   "metadata": {
    "jupyter": {
     "source_hidden": true
    }
   },
   "outputs": [],
   "source": [
    "sns.barplot(df.sort_values(by=['City']),x=\"Population\",y=\"City\", color = \"royalblue\")"
   ]
  },
  {
   "cell_type": "markdown",
   "id": "62c18b90",
   "metadata": {},
   "source": [
    "### Population Pyramid"
   ]
  },
  {
   "cell_type": "code",
   "execution_count": null,
   "id": "1555a684-dcda-4fb2-adfa-86464d9a80f0",
   "metadata": {
    "jupyter": {
     "source_hidden": true
    }
   },
   "outputs": [],
   "source": [
    "df=pd.read_csv(\"India-2020.csv\")# Source https://www.populationpyramid.net/india/2020/\n",
    "df.head()"
   ]
  },
  {
   "cell_type": "code",
   "execution_count": null,
   "id": "9fadd25c-0a36-4c0d-af49-2ca087273a79",
   "metadata": {
    "jupyter": {
     "source_hidden": true
    }
   },
   "outputs": [],
   "source": [
    "pd.melt(df.head(),id_vars=['Age'], value_vars=['M', 'F']) # Wide format to Long format conversion"
   ]
  },
  {
   "cell_type": "code",
   "execution_count": null,
   "id": "cf61e69d-7fe1-467f-9489-37ceccbef571",
   "metadata": {
    "jupyter": {
     "source_hidden": true
    }
   },
   "outputs": [],
   "source": [
    "df_melt = pd.melt(df,id_vars=['Age'], value_vars=['M', 'F'],var_name='Gender', value_name='population')\n",
    "df_melt"
   ]
  },
  {
   "cell_type": "code",
   "execution_count": null,
   "id": "3506a148-6c84-49d4-9aba-a8d773adf12a",
   "metadata": {
    "jupyter": {
     "source_hidden": true
    }
   },
   "outputs": [],
   "source": [
    "px.bar(df_melt,x=\"population\", y = \"Age\", color=\"Gender\", barmode=\"relative\") #One of 'group', 'overlay' or 'relative'"
   ]
  },
  {
   "cell_type": "code",
   "execution_count": null,
   "id": "93f0f75c-47a1-4357-bd31-18e9244168ce",
   "metadata": {
    "jupyter": {
     "source_hidden": true
    }
   },
   "outputs": [],
   "source": [
    "df[\"F\"] =  -df[\"F\"]\n",
    "df.head()"
   ]
  },
  {
   "cell_type": "code",
   "execution_count": null,
   "id": "41cd1e3c-3ef8-4e30-b4aa-9e23722fec64",
   "metadata": {
    "jupyter": {
     "source_hidden": true
    }
   },
   "outputs": [],
   "source": [
    "df_melt = pd.melt(df,id_vars=['Age'], value_vars=['M', 'F'],var_name='Gender', value_name='population')"
   ]
  },
  {
   "cell_type": "code",
   "execution_count": null,
   "id": "a4f79883-fc83-4930-abc9-7ae87a93fc9f",
   "metadata": {
    "jupyter": {
     "source_hidden": true
    }
   },
   "outputs": [],
   "source": [
    "px.bar(df_melt,x=\"population\", y = \"Age\", color=\"Gender\", barmode=\"relative\") \n",
    "#'relative' mode, bars are stacked above zero for positive values and below zero for negative values\n",
    "# see https://plotly.com/python-api-reference/generated/plotly.express.bar"
   ]
  },
  {
   "cell_type": "code",
   "execution_count": null,
   "id": "12b8e96d-3ef2-49aa-b6ea-302d0a39ad61",
   "metadata": {
    "jupyter": {
     "source_hidden": true
    }
   },
   "outputs": [],
   "source": [
    "px.bar(df_melt,x=\"population\", y = \"Age\", color=\"Gender\", barmode=\"relative\").update_layout(\n",
    "    title = 'Population Pyramid of India-2021',\n",
    "    height = 500,\n",
    "    title_font_size = 22,\n",
    "    bargap = 0.0,\n",
    "    xaxis = dict(\n",
    "        tickvals = [-60000000, -40000000, -20000000,\n",
    "                     0, 20000000, 40000000, 60000000],                           \n",
    "        ticktext = ['8M', '6M', '4M', '2M', '0', \n",
    "              '2M', '4M', '6M', '8M'],\n",
    "        title = 'Population in Millions',\n",
    "        title_font_size = 14\n",
    "    )\n",
    ")"
   ]
  },
  {
   "cell_type": "markdown",
   "id": "01fb771b-a243-402a-b593-b1610884fba3",
   "metadata": {},
   "source": [
    "### [World bank data](https://databank.worldbank.org/home.aspx) access."
   ]
  },
  {
   "cell_type": "code",
   "execution_count": null,
   "id": "6007221c-ef09-42ef-8bae-8af3c1dda4bc",
   "metadata": {
    "jupyter": {
     "source_hidden": true
    }
   },
   "outputs": [],
   "source": [
    "#!pip install wbgapi\n",
    "import wbgapi as wb\n",
    "# See https://github.com/tgherzog/wbgapi for details"
   ]
  },
  {
   "cell_type": "code",
   "execution_count": null,
   "id": "84c44443-639a-4c0a-a011-0b49d6d993a5",
   "metadata": {
    "jupyter": {
     "source_hidden": true
    }
   },
   "outputs": [],
   "source": [
    "help(wb.series)"
   ]
  },
  {
   "cell_type": "code",
   "execution_count": null,
   "id": "8371173f-c34b-452c-98a1-dcd9e099f88c",
   "metadata": {
    "jupyter": {
     "source_hidden": true
    }
   },
   "outputs": [],
   "source": [
    "wb.series.info(q=\"women\")"
   ]
  },
  {
   "cell_type": "code",
   "execution_count": null,
   "id": "6a03f34e-af6e-4290-9a00-4058679cfcd6",
   "metadata": {
    "jupyter": {
     "source_hidden": true
    }
   },
   "outputs": [],
   "source": [
    "wb.data.DataFrame('SG.GEN.PARL.ZS', wb.region.members('AFR'))"
   ]
  },
  {
   "cell_type": "code",
   "execution_count": null,
   "id": "5291b1fb",
   "metadata": {
    "jupyter": {
     "source_hidden": true
    }
   },
   "outputs": [],
   "source": [
    "wb.series.info(q=\"population\")"
   ]
  },
  {
   "cell_type": "code",
   "execution_count": null,
   "id": "5c56fbc5",
   "metadata": {
    "jupyter": {
     "source_hidden": true
    }
   },
   "outputs": [],
   "source": [
    "df_percent_women = wb.data.DataFrame('SP.POP.TOTL.FE.ZS',wb.economy.coder(\"INDIA\"))\n",
    "df_percent_women.head()"
   ]
  },
  {
   "cell_type": "code",
   "execution_count": null,
   "id": "251eb836-ddb4-4961-bf1c-e039e841487e",
   "metadata": {
    "jupyter": {
     "source_hidden": true
    }
   },
   "outputs": [],
   "source": [
    "df_population = wb.data.DataFrame('SP.POP.TOTL',wb.economy.coder(\"INDIA\"))\n",
    "df_population.head()"
   ]
  },
  {
   "cell_type": "code",
   "execution_count": null,
   "id": "1ca1de42-0f98-449d-898c-228e909f12b8",
   "metadata": {
    "jupyter": {
     "source_hidden": true
    }
   },
   "outputs": [],
   "source": [
    "df=df_population.T\n",
    "df.head()"
   ]
  },
  {
   "cell_type": "code",
   "execution_count": null,
   "id": "04145479-abaf-4348-9ab0-c330858c87d6",
   "metadata": {
    "jupyter": {
     "source_hidden": true
    }
   },
   "outputs": [],
   "source": [
    "df=df.rename(columns={\"IND\":\"total\"})\n",
    "df.head()"
   ]
  },
  {
   "cell_type": "code",
   "execution_count": null,
   "id": "90baef9c-4c16-4eae-a574-a3c2c29b172c",
   "metadata": {
    "jupyter": {
     "source_hidden": true
    }
   },
   "outputs": [],
   "source": [
    "df_w = df_percent_women.T\n",
    "df_w.head()"
   ]
  },
  {
   "cell_type": "code",
   "execution_count": null,
   "id": "4cf532f4-056b-4a22-b569-8951476b61ad",
   "metadata": {
    "jupyter": {
     "source_hidden": true
    }
   },
   "outputs": [],
   "source": [
    "df_w = df_w.rename(columns={\"IND\":\"Female %\"})\n",
    "df_w.head()"
   ]
  },
  {
   "cell_type": "code",
   "execution_count": null,
   "id": "e4005d5b-a42a-45cc-a688-42666dc20d4a",
   "metadata": {
    "jupyter": {
     "source_hidden": true
    }
   },
   "outputs": [],
   "source": [
    "df_concat = pd.concat([df, df_w], axis=1)"
   ]
  },
  {
   "cell_type": "code",
   "execution_count": null,
   "id": "40c2e033-efa4-41ac-a144-6114c05f96e8",
   "metadata": {
    "jupyter": {
     "source_hidden": true
    }
   },
   "outputs": [],
   "source": [
    "df_concat"
   ]
  },
  {
   "cell_type": "code",
   "execution_count": null,
   "id": "67e103ee-f6a4-46bd-9454-496245452855",
   "metadata": {
    "jupyter": {
     "source_hidden": true
    }
   },
   "outputs": [],
   "source": [
    "df_concat"
   ]
  },
  {
   "cell_type": "code",
   "execution_count": null,
   "id": "471dd611-e219-4d64-80b2-0b9ddc12f82d",
   "metadata": {
    "jupyter": {
     "source_hidden": true
    }
   },
   "outputs": [],
   "source": [
    "df_concat[\"Male\"] = df_concat[\"total\"]*(100 - df_concat[\"Female %\"])/100"
   ]
  },
  {
   "cell_type": "code",
   "execution_count": null,
   "id": "0f4ec548-7690-47df-bf41-89f07e65a6db",
   "metadata": {
    "jupyter": {
     "source_hidden": true
    }
   },
   "outputs": [],
   "source": [
    "df_concat[\"Female\"] = df_concat[\"total\"]*df_concat[\"Female %\"]/100\n",
    "df_concat.head()"
   ]
  },
  {
   "cell_type": "code",
   "execution_count": null,
   "id": "0a2f124b-9d3d-4782-bd99-41feaef9080f",
   "metadata": {
    "jupyter": {
     "source_hidden": true
    }
   },
   "outputs": [],
   "source": [
    "df_concat=df_concat.reset_index()"
   ]
  },
  {
   "cell_type": "code",
   "execution_count": null,
   "id": "b53404bf-0e14-4553-8ee4-f4eaacb41cd8",
   "metadata": {
    "jupyter": {
     "source_hidden": true
    }
   },
   "outputs": [],
   "source": [
    "df_concat.head()"
   ]
  },
  {
   "cell_type": "code",
   "execution_count": null,
   "id": "b9c37d32-ed2f-4050-9df9-b5f2e13a0546",
   "metadata": {
    "jupyter": {
     "source_hidden": true
    }
   },
   "outputs": [],
   "source": [
    "df_melt = pd.melt(df_concat,id_vars=['index','total'], value_vars=['Male', 'Female'],var_name='gender', value_name='population')\n",
    "df_melt.head()"
   ]
  },
  {
   "cell_type": "code",
   "execution_count": null,
   "id": "92e10879-d9d4-4c05-b4f6-2673691f7401",
   "metadata": {
    "jupyter": {
     "source_hidden": true
    }
   },
   "outputs": [],
   "source": [
    "px.bar(df_melt, x=\"index\", y = \"population\", color=\"gender\")"
   ]
  },
  {
   "cell_type": "code",
   "execution_count": null,
   "id": "ddc939a5-8001-4800-8536-2c7fb02ede1e",
   "metadata": {
    "jupyter": {
     "source_hidden": true
    }
   },
   "outputs": [],
   "source": [
    "px.bar(df_melt, x=\"index\", y = \"population\", color=\"gender\", barmode=\"group\")"
   ]
  },
  {
   "cell_type": "code",
   "execution_count": null,
   "id": "ae13172b-f87c-4e55-a656-bf3ce441d14c",
   "metadata": {
    "jupyter": {
     "source_hidden": true
    }
   },
   "outputs": [],
   "source": [
    "df_concat[\"Female\"] = -df_concat[\"Female\"]\n",
    "df_concat"
   ]
  },
  {
   "cell_type": "code",
   "execution_count": null,
   "id": "72787ef8-a872-44e1-805b-805e1f243a02",
   "metadata": {
    "jupyter": {
     "source_hidden": true
    }
   },
   "outputs": [],
   "source": [
    "df_concat[\"index\"] = pd.to_datetime(df_concat[\"index\"],format=\"YR%Y\")\n",
    "df_concat.head()"
   ]
  },
  {
   "cell_type": "code",
   "execution_count": null,
   "id": "74f2e3d3-ff6c-470b-a65c-b1193db4d36c",
   "metadata": {
    "jupyter": {
     "source_hidden": true
    }
   },
   "outputs": [],
   "source": [
    "df_negmelt = pd.melt(df_concat,id_vars=['index'], value_vars=['Male', 'Female'],var_name='gender', value_name='population')\n",
    "df_negmelt.head()"
   ]
  },
  {
   "cell_type": "code",
   "execution_count": null,
   "id": "4f64619f-ecc5-4b54-af86-3ca94298a9d9",
   "metadata": {
    "jupyter": {
     "source_hidden": true
    }
   },
   "outputs": [],
   "source": [
    "px.bar(df_negmelt, x=\"index\", y = \"population\", color=\"gender\", barmode=\"relative\").update_layout(title = 'Male Female Population India 1960-2021',\n",
    "    height = 600,\n",
    "    title_font_size = 22, \n",
    "    bargap = 0.0, \n",
    "    yaxis = dict(\n",
    "        tickvals = [-700000000,-600000000, -400000000, -200000000,\n",
    "                     0, 200000000, 400000000, 600000000, 700000000,],                           \n",
    "        ticktext = ['700M', '600M', '400M', '200M', '0', \n",
    "              '200M', '400M', '600M', '700M'],\n",
    "        title = 'Population in Millions',\n",
    "        title_font_size = 14\n",
    "    ),\n",
    "    xaxis = dict(title=\"Year\")\n",
    ")"
   ]
  },
  {
   "cell_type": "code",
   "execution_count": null,
   "id": "0755a903-6e66-455a-9a7f-eda366df41ae",
   "metadata": {
    "jupyter": {
     "source_hidden": true
    }
   },
   "outputs": [],
   "source": [
    "px.bar(df_negmelt, y=\"index\", x = \"population\", color=\"gender\", barmode=\"relative\", orientation=\"h\").update_layout(title = 'Population of Male-Female of India from 1960-2022',\n",
    "    title_font_size = 22,\n",
    "    #bargap = 0.0, bargroupgap = 0,\n",
    "    xaxis = dict(\n",
    "        tickvals = [-700000000,-600000000, -400000000, -200000000,\n",
    "                     0, 200000000, 400000000, 600000000, 700000000,],                           \n",
    "        ticktext = ['700M', '600M', '400M', '200M', '0', \n",
    "              '200M', '400M', '600M', '700M'],\n",
    "        title = 'Population in Millions',\n",
    "        title_font_size = 14\n",
    "    ),\n",
    "    yaxis = dict(title=\"year\")                                                                                                         \n",
    ")"
   ]
  },
  {
   "cell_type": "code",
   "execution_count": null,
   "id": "3845b01b-7ab8-4715-8a32-2720ac403288",
   "metadata": {
    "jupyter": {
     "source_hidden": true
    }
   },
   "outputs": [],
   "source": [
    "px.bar(df_negmelt, y=\"index\", x = \"population\", color=\"gender\", barmode=\"relative\", orientation=\"h\").update_layout(\n",
    "    title = 'Population of Male-Female of India from 1960-2022',\n",
    "    title_font_size = 22,\n",
    "    #bargap = 0.0, bargroupgap = 0,\n",
    "    xaxis = dict(\n",
    "        tickvals = [-700000000,-600000000, -400000000, -200000000,\n",
    "                     0, 200000000, 400000000, 600000000, 700000000,],                           \n",
    "        ticktext = ['700M', '600M', '400M', '200M', '0', \n",
    "              '200M', '400M', '600M', '700M'],\n",
    "        title = 'Population in Millions',\n",
    "        title_font_size = 14\n",
    "    ),\n",
    "    yaxis = dict(title=\"year\",autorange=\"reversed\")                                                                                                         \n",
    ")"
   ]
  },
  {
   "cell_type": "markdown",
   "id": "3d18e067-cafa-49a1-95e5-c672baff6a82",
   "metadata": {},
   "source": [
    "### Pie Chart of Religion Composition of India\n",
    "Data Source: https://censusindia.gov.in"
   ]
  },
  {
   "cell_type": "code",
   "execution_count": null,
   "id": "15c3ccd0-a5e0-4d5b-82b2-1a4ecc4f13a9",
   "metadata": {
    "jupyter": {
     "source_hidden": true
    }
   },
   "outputs": [],
   "source": [
    "#!pip install xlrd\n",
    "url = \"https://censusindia.gov.in/nada/index.php/catalog/11361/download/14474/DDW00C-01%20MDDS.XLS\"\n",
    "df = pd.read_excel(url)\n",
    "df.head()"
   ]
  },
  {
   "cell_type": "raw",
   "id": "a2c3e00d-b9e3-48cf-8987-a3c0a00fe56a",
   "metadata": {},
   "source": [
    "#url = \"https://censusindia.gov.in/nada/index.php/catalog/11361/download/14474/DDW00C-01%20MDDS.XLS\"\n",
    "#df = pd.read_excel(url)\n",
    "url = \"DDW00C-01 MDDS.csv\"\n",
    "df = pd.read_csv(url)\n",
    "df.head(6)"
   ]
  },
  {
   "cell_type": "code",
   "execution_count": null,
   "id": "4075fa2f-3184-4e6f-82c7-6cb560f0f34f",
   "metadata": {
    "jupyter": {
     "source_hidden": true
    }
   },
   "outputs": [],
   "source": [
    "#df=pd.read_excel(url,header = [2,3], index_col = [5,6])\n",
    "df=pd.read_excel(url,header = [2,3], index_col = [5,6])\n",
    "df.head(6)"
   ]
  },
  {
   "cell_type": "code",
   "execution_count": null,
   "id": "05e05d78-1a89-473e-aeb5-db6088189b13",
   "metadata": {
    "jupyter": {
     "source_hidden": true
    }
   },
   "outputs": [],
   "source": [
    "df.columns.values"
   ]
  },
  {
   "cell_type": "code",
   "execution_count": null,
   "id": "6fdebe1c-a013-4e5b-a22f-188fb343e62e",
   "metadata": {
    "jupyter": {
     "source_hidden": true
    }
   },
   "outputs": [],
   "source": [
    "df.loc[(\"INDIA\",\"Total\")][(\"Total\", \"Persons\")]"
   ]
  },
  {
   "cell_type": "code",
   "execution_count": null,
   "id": "dc52a9c3-86d9-4ec5-b16d-ef5fba910eb7",
   "metadata": {
    "jupyter": {
     "source_hidden": true
    }
   },
   "outputs": [],
   "source": [
    "df.columns = ['_'.join(col) for col in df.columns.values]\n",
    "df.columns"
   ]
  },
  {
   "cell_type": "code",
   "execution_count": null,
   "id": "4235bfcc",
   "metadata": {
    "jupyter": {
     "source_hidden": true
    }
   },
   "outputs": [],
   "source": [
    "columns = df.columns[df.columns.str.contains(\"_Persons\")]\n",
    "columns"
   ]
  },
  {
   "cell_type": "code",
   "execution_count": null,
   "id": "81e9f1d7",
   "metadata": {
    "jupyter": {
     "source_hidden": true
    }
   },
   "outputs": [],
   "source": [
    "df.loc[\"INDIA\"][columns]"
   ]
  },
  {
   "cell_type": "code",
   "execution_count": null,
   "id": "d0188da3-1013-46dc-b449-7e048744484f",
   "metadata": {
    "jupyter": {
     "source_hidden": true
    }
   },
   "outputs": [],
   "source": [
    "df1=df.loc[\"INDIA\"][columns]\n",
    "df1"
   ]
  },
  {
   "cell_type": "code",
   "execution_count": null,
   "id": "90b78feb-5039-4655-a5ad-e12ae832424c",
   "metadata": {
    "jupyter": {
     "source_hidden": true
    }
   },
   "outputs": [],
   "source": [
    "df1 = df1.drop(columns=['Total_Persons'])\n",
    "df1"
   ]
  },
  {
   "cell_type": "code",
   "execution_count": null,
   "id": "bf4165e4-e77d-45ff-ae71-0da6d16aa125",
   "metadata": {
    "jupyter": {
     "source_hidden": true
    }
   },
   "outputs": [],
   "source": []
  },
  {
   "cell_type": "code",
   "execution_count": null,
   "id": "2645aa6e-268e-484f-81af-f8fff242b0b8",
   "metadata": {
    "jupyter": {
     "source_hidden": true
    }
   },
   "outputs": [],
   "source": [
    "df2 = df1.T\n",
    "df2.head()"
   ]
  },
  {
   "cell_type": "code",
   "execution_count": null,
   "id": "b7806720-da87-4a1c-9898-152945c1373c",
   "metadata": {
    "jupyter": {
     "source_hidden": true
    }
   },
   "outputs": [],
   "source": [
    "df2 = df2.reset_index()\n",
    "df2.head()"
   ]
  },
  {
   "cell_type": "code",
   "execution_count": null,
   "id": "0eee922d",
   "metadata": {
    "jupyter": {
     "source_hidden": true
    }
   },
   "outputs": [],
   "source": [
    "df2[\"index\"]=df2[\"index\"].str.removesuffix(\"_Persons\")"
   ]
  },
  {
   "cell_type": "code",
   "execution_count": null,
   "id": "956a4528",
   "metadata": {
    "jupyter": {
     "source_hidden": true
    }
   },
   "outputs": [],
   "source": [
    "df2"
   ]
  },
  {
   "cell_type": "code",
   "execution_count": null,
   "id": "1339e22a-190e-472c-872a-070634060440",
   "metadata": {
    "jupyter": {
     "source_hidden": true
    }
   },
   "outputs": [],
   "source": [
    "fig = px.pie(df2, values='Total', names='index', title='Religions composition of India')\n",
    "fig.show()"
   ]
  },
  {
   "cell_type": "code",
   "execution_count": null,
   "id": "6ef43b5d-3cd8-4d6c-af9c-c3246fee44e9",
   "metadata": {
    "jupyter": {
     "source_hidden": true
    }
   },
   "outputs": [],
   "source": [
    "others = df2.iloc[[4,5,6,7]].sum()\n",
    "others"
   ]
  },
  {
   "cell_type": "code",
   "execution_count": null,
   "id": "fbe26da5-1d6b-460d-a3f2-675420be0901",
   "metadata": {
    "jupyter": {
     "source_hidden": true
    }
   },
   "outputs": [],
   "source": [
    "df2=df2.drop([4,5,6,7])\n",
    "df2"
   ]
  },
  {
   "cell_type": "code",
   "execution_count": null,
   "id": "329af311-0c5f-4dca-8735-402c9a06c616",
   "metadata": {
    "jupyter": {
     "source_hidden": true
    }
   },
   "outputs": [],
   "source": [
    "others"
   ]
  },
  {
   "cell_type": "code",
   "execution_count": null,
   "id": "bb85839e-1b2f-4a7d-b5db-33fe46d91de3",
   "metadata": {
    "jupyter": {
     "source_hidden": true
    }
   },
   "outputs": [],
   "source": []
  },
  {
   "cell_type": "code",
   "execution_count": null,
   "id": "b991fcd8-90e6-45e0-95e9-b1e91781ecbc",
   "metadata": {
    "jupyter": {
     "source_hidden": true
    }
   },
   "outputs": [],
   "source": [
    "others[0]"
   ]
  },
  {
   "cell_type": "code",
   "execution_count": null,
   "id": "74a0cd9b-28d8-4d6e-a076-02c6841f8fbe",
   "metadata": {
    "jupyter": {
     "source_hidden": true
    }
   },
   "outputs": [],
   "source": [
    "others[0]=\"Others\""
   ]
  },
  {
   "cell_type": "code",
   "execution_count": null,
   "id": "4be0f7bf-db44-4efd-821d-4a6dc5fae134",
   "metadata": {
    "jupyter": {
     "source_hidden": true
    }
   },
   "outputs": [],
   "source": [
    "df2=df2.append(others,ignore_index=True)"
   ]
  },
  {
   "cell_type": "code",
   "execution_count": null,
   "id": "3a5cacfa-04d4-482e-9063-29b7469adbe9",
   "metadata": {
    "jupyter": {
     "source_hidden": true
    }
   },
   "outputs": [],
   "source": [
    "df2"
   ]
  },
  {
   "cell_type": "code",
   "execution_count": null,
   "id": "b18de4f5-59d1-4068-af43-36d303c560c9",
   "metadata": {
    "jupyter": {
     "source_hidden": true
    }
   },
   "outputs": [],
   "source": [
    "px.pie(df2, values='Total', names='index', title='Religions composition of India', height=500, width = 500)"
   ]
  },
  {
   "cell_type": "markdown",
   "id": "08574c7e-60c4-48e0-b574-6fbe602bb892",
   "metadata": {},
   "source": [
    "# "
   ]
  },
  {
   "cell_type": "code",
   "execution_count": null,
   "id": "d67afe9c-2800-432c-a49f-bd69d6a6dd1f",
   "metadata": {
    "jupyter": {
     "source_hidden": true
    }
   },
   "outputs": [],
   "source": [
    "px.pie(df2, values='Total', names='index', title='Religions composition of India', height=600, width = 600, hole=0.5).update_layout(\n",
    "    legend={\"x\": 0.5,\"y\": 0.5, \"xanchor\" : \"center\"})"
   ]
  },
  {
   "cell_type": "code",
   "execution_count": null,
   "id": "06fcfb16-550e-43c9-9233-f34570669bf5",
   "metadata": {
    "jupyter": {
     "source_hidden": true
    }
   },
   "outputs": [],
   "source": [
    "px.pie(df2, values='Total', names='index', title='Religions composition of India', height=600, width = 600, hole=0.5).update_layout(\n",
    "    legend={\"x\": 0.5,\"y\": 0.5, \"xanchor\" : \"center\"}).update_traces(pull=0.1)"
   ]
  },
  {
   "cell_type": "code",
   "execution_count": null,
   "id": "8606d5a4-6c12-4311-a840-4d61ac254834",
   "metadata": {
    "jupyter": {
     "source_hidden": true
    }
   },
   "outputs": [],
   "source": [
    "px.pie(df2, values='Total', names='index', title='Religions composition of India', height=600, width = 600, hole=0.6).update_layout(\n",
    "    legend={\"x\": 0.5,\"y\": 0.5, \"xanchor\" : \"center\"}).update_traces(pull=[0,0.1])"
   ]
  },
  {
   "cell_type": "code",
   "execution_count": null,
   "id": "83d4986c-a212-4ffc-b2a9-7b2e4551f708",
   "metadata": {
    "jupyter": {
     "source_hidden": true
    }
   },
   "outputs": [],
   "source": [
    "import matplotlib.pyplot as plt"
   ]
  },
  {
   "cell_type": "code",
   "execution_count": null,
   "id": "b8248677-e92f-44d4-829f-e43130c06214",
   "metadata": {
    "jupyter": {
     "source_hidden": true
    }
   },
   "outputs": [],
   "source": [
    "plt.pie(df2[\"Total\"], counterclock = False, startangle = 90, autopct = '%1.0f%%', pctdistance=1.1,wedgeprops=dict(width=0.5))\n",
    "plt.legend(df2[\"index\"], \n",
    "           loc=\"center left\",\n",
    "          bbox_to_anchor=(1, 0, 0.5, 1))\n",
    "plt.show()"
   ]
  },
  {
   "cell_type": "code",
   "execution_count": null,
   "id": "77d2590e-25e2-414b-9f54-4f47f7028c68",
   "metadata": {
    "jupyter": {
     "source_hidden": true
    }
   },
   "outputs": [],
   "source": [
    "df2"
   ]
  },
  {
   "cell_type": "code",
   "execution_count": null,
   "id": "64634d14-9619-4af7-9767-ed2e9e60ba00",
   "metadata": {
    "jupyter": {
     "source_hidden": true
    }
   },
   "outputs": [],
   "source": [
    "plt.pie(df2[\"Total\"], counterclock = False, startangle = 90, autopct = '%1.0f%%', pctdistance=1.1,\n",
    "        wedgeprops=dict(width=0.3), \n",
    "        explode = [0,0.1,0,0,0])\n",
    "plt.legend(df2[\"index\"], \n",
    "           loc=\"center left\",\n",
    "          bbox_to_anchor=(1, 0, 0.5, 1))\n",
    "plt.show()"
   ]
  }
 ],
 "metadata": {
  "kernelspec": {
   "display_name": "Python 3 (ipykernel)",
   "language": "python",
   "name": "python3"
  },
  "language_info": {
   "codemirror_mode": {
    "name": "ipython",
    "version": 3
   },
   "file_extension": ".py",
   "mimetype": "text/x-python",
   "name": "python",
   "nbconvert_exporter": "python",
   "pygments_lexer": "ipython3",
   "version": "3.11.4"
  }
 },
 "nbformat": 4,
 "nbformat_minor": 5
}
